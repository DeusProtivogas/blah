{
 "cells": [
  {
   "cell_type": "markdown",
   "metadata": {},
   "source": [
    "# Regular expression (regex or regexp) \n",
    "is a sequence of characters that define a search pattern. Usually such patterns are used by string searching algorithms for \"find\" or \"find and replace\" operations on strings, or for input validation. It is a technique developed in theoretical computer science and formal language theory. \n",
    "\n",
    "https://en.wikipedia.org/wiki/Regular_expression"
   ]
  },
  {
   "cell_type": "markdown",
   "metadata": {},
   "source": [
    "## Operator Description\n",
    "* . ---- Any single character except the newline \\n.\n",
    "* ? ---- 0 or 1 occurrence of the pattern on the left\n",
    "* \\+ ---- 1 or more occurrences of the pattern on the left\n",
    "* \\*  ---- 0 or more occurrences of the pattern on the left\n",
    "* \\w  ---- Any number or letter (\\ W - everything except a letter or number)\n",
    "* \\d ---- Any digit [0-9] (\\ D - everything except the digit)\n",
    "* \\s ---- Any whitespace character (\\ S is any non-whitespace character)\n",
    "* \\b ---- Word boundary\n",
    "* [..] ---- One of the characters in brackets ([^ ..] - any character except those in brackets)\n",
    "* \\ ---- Escaping special characters (\\. Means a dot or \\+ is a plus sign)\n",
    "* ^ and $ ---- Beginning and end of line, respectively\n",
    "* {n, m} ---- From n to m occurrences ({, m} - from 0 to m)\n",
    "* a|b ---- Matches a or b\n",
    "* () ---- Groups an expression and returns the found text\n",
    "* \\t, \\n, \\r ---- Tab, newline, and carriage returns respectively"
   ]
  },
  {
   "cell_type": "code",
   "execution_count": null,
   "metadata": {},
   "outputs": [],
   "source": [
    "import re"
   ]
  },
  {
   "cell_type": "code",
   "execution_count": null,
   "metadata": {},
   "outputs": [],
   "source": [
    "re."
   ]
  },
  {
   "cell_type": "code",
   "execution_count": null,
   "metadata": {},
   "outputs": [],
   "source": [
    "line = 'Hello, my friends! How are you?'"
   ]
  },
  {
   "cell_type": "code",
   "execution_count": null,
   "metadata": {},
   "outputs": [],
   "source": [
    "print(re.findall('.',line)) # all symbols"
   ]
  },
  {
   "cell_type": "code",
   "execution_count": null,
   "metadata": {},
   "outputs": [],
   "source": [
    "print(re.findall('\\w',line))"
   ]
  },
  {
   "cell_type": "code",
   "execution_count": null,
   "metadata": {},
   "outputs": [],
   "source": [
    "print(re.findall('\\w*',line))"
   ]
  },
  {
   "cell_type": "code",
   "execution_count": null,
   "metadata": {},
   "outputs": [],
   "source": [
    "print(re.findall('\\w+',line))"
   ]
  },
  {
   "cell_type": "code",
   "execution_count": null,
   "metadata": {},
   "outputs": [],
   "source": [
    "print(re.findall('^\\w+',line))"
   ]
  },
  {
   "cell_type": "code",
   "execution_count": null,
   "metadata": {},
   "outputs": [],
   "source": []
  },
  {
   "cell_type": "code",
   "execution_count": null,
   "metadata": {},
   "outputs": [],
   "source": [
    "print(re.findall('\\w\\w',line))"
   ]
  },
  {
   "cell_type": "code",
   "execution_count": null,
   "metadata": {},
   "outputs": [],
   "source": [
    "with_date = 'Today is 19.09.2019 Thursday'"
   ]
  },
  {
   "cell_type": "code",
   "execution_count": null,
   "metadata": {},
   "outputs": [],
   "source": [
    "re.findall('\\d{2}\\.\\d{2}\\.\\d{4}',with_date)"
   ]
  },
  {
   "cell_type": "markdown",
   "metadata": {},
   "source": [
    "### Assigments"
   ]
  },
  {
   "cell_type": "code",
   "execution_count": null,
   "metadata": {},
   "outputs": [],
   "source": [
    "emails = 'me@me.me, you@you.hse.ru? \\\n",
    "qwerty@qwerty.com! and asdfg.asdfdg@company.com, newaccount11@gmail.com'"
   ]
  },
  {
   "cell_type": "code",
   "execution_count": null,
   "metadata": {},
   "outputs": [],
   "source": [
    "re.findall('@me',emails)"
   ]
  },
  {
   "cell_type": "code",
   "execution_count": null,
   "metadata": {},
   "outputs": [],
   "source": [
    "dates = 'Days 01.01.1901 and 2019-09-19! New 10 dates are here: \\\n",
    "errors at host 127.0.0.1 at 23.12.2018 and 23.12.2018T19:00:00'"
   ]
  },
  {
   "cell_type": "markdown",
   "metadata": {},
   "source": [
    "### sub all vowels to '*'"
   ]
  },
  {
   "cell_type": "code",
   "execution_count": null,
   "metadata": {},
   "outputs": [],
   "source": [
    "regex_is_vowels = 'is a sequence of characters that define a search pattern. \\\n",
    "Usually such patterns are used by string searching algorithms for \"find\"\\\n",
    "or \"find and replace\" operations on strings, or for input validation.\\\n",
    "It is a technique developed in theoretical computer science and formal language theory.'\n",
    "re.sub(r'.','*',regex_is)"
   ]
  },
  {
   "cell_type": "markdown",
   "metadata": {},
   "source": [
    "### split by punctuation marks"
   ]
  },
  {
   "cell_type": "code",
   "execution_count": null,
   "metadata": {},
   "outputs": [],
   "source": [
    "regex_split = 'sad%ksakjd:sadsa;SDSD123!11242:xxxx?s,!'\n",
    "?re.split"
   ]
  },
  {
   "cell_type": "markdown",
   "metadata": {},
   "source": [
    "### if valid phone number print YES else NO"
   ]
  },
  {
   "cell_type": "code",
   "execution_count": null,
   "metadata": {},
   "outputs": [],
   "source": [
    "is_phones = ['+71231231231','89999999999',\\\n",
    "             '8-923-123-21-23','8999131231981230214','213X123s213',\\\n",
    "            '+79192318123212','+7-92873-12331','+19271312341','+7881221233o1']\n",
    "?re.match"
   ]
  },
  {
   "cell_type": "code",
   "execution_count": null,
   "metadata": {},
   "outputs": [],
   "source": []
  }
 ],
 "metadata": {
  "kernelspec": {
   "display_name": "Python 3",
   "language": "python",
   "name": "python3"
  },
  "language_info": {
   "codemirror_mode": {
    "name": "ipython",
    "version": 3
   },
   "file_extension": ".py",
   "mimetype": "text/x-python",
   "name": "python",
   "nbconvert_exporter": "python",
   "pygments_lexer": "ipython3",
   "version": "3.6.4"
  }
 },
 "nbformat": 4,
 "nbformat_minor": 2
}
